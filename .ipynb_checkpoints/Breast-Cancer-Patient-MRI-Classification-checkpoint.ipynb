{
 "cells": [
  {
   "cell_type": "code",
   "execution_count": 1,
   "metadata": {
    "execution": {
     "iopub.execute_input": "2021-08-20T08:56:52.865147Z",
     "iopub.status.busy": "2021-08-20T08:56:52.864926Z",
     "iopub.status.idle": "2021-08-20T08:56:53.859641Z",
     "shell.execute_reply": "2021-08-20T08:56:53.859038Z",
     "shell.execute_reply.started": "2021-08-20T08:56:52.865123Z"
    }
   },
   "outputs": [],
   "source": [
    "# Import all the necessary libraries\n",
    "\n",
    "import tensorflow as tf\n",
    "from tensorflow import keras\n",
    "from tensorflow.keras import Model\n",
    "from tensorflow.keras.layers import (\n",
    "    Flatten, \n",
    "    Conv2D,\n",
    "    MaxPooling2D, \n",
    "    MaxPool2D,\n",
    "    Dense, \n",
    "    BatchNormalization, \n",
    "    Dropout,\n",
    "    Input,\n",
    "    ZeroPadding2D\n",
    "  )\n",
    "from tensorflow.keras.optimizers import Adam, RMSprop\n",
    "from tensorflow.keras.callbacks import EarlyStopping, ModelCheckpoint\n",
    "from tensorflow.keras import Sequential\n",
    "from tensorflow.keras.models import load_model\n",
    "from tensorflow.keras.preprocessing.image import ImageDataGenerator\n",
    "import matplotlib.pyplot as plt\n",
    "import numpy as np\n",
    "import random\n",
    "import os"
   ]
  },
  {
   "cell_type": "code",
   "execution_count": 2,
   "metadata": {
    "execution": {
     "iopub.execute_input": "2021-08-20T08:56:55.825031Z",
     "iopub.status.busy": "2021-08-20T08:56:55.824811Z",
     "iopub.status.idle": "2021-08-20T08:56:57.718430Z",
     "shell.execute_reply": "2021-08-20T08:56:57.717746Z",
     "shell.execute_reply.started": "2021-08-20T08:56:55.825008Z"
    }
   },
   "outputs": [
    {
     "name": "stdout",
     "output_type": "stream",
     "text": [
      "--2021-08-20 08:56:55--  https://cainvas.ai-tech.systems:9000/user/kkharbanda90/lab//home/jupyter-kkharbanda90/archive.zip\n",
      "Resolving cainvas.ai-tech.systems (cainvas.ai-tech.systems)... 65.1.254.242\n",
      "Connecting to cainvas.ai-tech.systems (cainvas.ai-tech.systems)|65.1.254.242|:9000... connected.\n",
      "HTTP request sent, awaiting response... 302 Found\n",
      "Location: /hub/api/oauth2/authorize?client_id=jupyterhub-user-kkharbanda90&redirect_uri=%2Fuser%2Fkkharbanda90%2Foauth_callback&response_type=code&state=eyJ1dWlkIjogImQ5Yzc0YTk4YzgxODRlZWNiYTcyOTUzYzhkZDFmOTk3IiwgIm5leHRfdXJsIjogIi91c2VyL2traGFyYmFuZGE5MC9sYWIvL2hvbWUvanVweXRlci1ra2hhcmJhbmRhOTAvYXJjaGl2ZS56aXAifQ [following]\n",
      "--2021-08-20 08:56:55--  https://cainvas.ai-tech.systems:9000/hub/api/oauth2/authorize?client_id=jupyterhub-user-kkharbanda90&redirect_uri=%2Fuser%2Fkkharbanda90%2Foauth_callback&response_type=code&state=eyJ1dWlkIjogImQ5Yzc0YTk4YzgxODRlZWNiYTcyOTUzYzhkZDFmOTk3IiwgIm5leHRfdXJsIjogIi91c2VyL2traGFyYmFuZGE5MC9sYWIvL2hvbWUvanVweXRlci1ra2hhcmJhbmRhOTAvYXJjaGl2ZS56aXAifQ\n",
      "Reusing existing connection to cainvas.ai-tech.systems:9000.\n",
      "HTTP request sent, awaiting response... 302 Found\n",
      "Location: /hub/login?next=%2Fhub%2Fapi%2Foauth2%2Fauthorize%3Fclient_id%3Djupyterhub-user-kkharbanda90%26redirect_uri%3D%252Fuser%252Fkkharbanda90%252Foauth_callback%26response_type%3Dcode%26state%3DeyJ1dWlkIjogImQ5Yzc0YTk4YzgxODRlZWNiYTcyOTUzYzhkZDFmOTk3IiwgIm5leHRfdXJsIjogIi91c2VyL2traGFyYmFuZGE5MC9sYWIvL2hvbWUvanVweXRlci1ra2hhcmJhbmRhOTAvYXJjaGl2ZS56aXAifQ [following]\n",
      "--2021-08-20 08:56:55--  https://cainvas.ai-tech.systems:9000/hub/login?next=%2Fhub%2Fapi%2Foauth2%2Fauthorize%3Fclient_id%3Djupyterhub-user-kkharbanda90%26redirect_uri%3D%252Fuser%252Fkkharbanda90%252Foauth_callback%26response_type%3Dcode%26state%3DeyJ1dWlkIjogImQ5Yzc0YTk4YzgxODRlZWNiYTcyOTUzYzhkZDFmOTk3IiwgIm5leHRfdXJsIjogIi91c2VyL2traGFyYmFuZGE5MC9sYWIvL2hvbWUvanVweXRlci1ra2hhcmJhbmRhOTAvYXJjaGl2ZS56aXAifQ\n",
      "Reusing existing connection to cainvas.ai-tech.systems:9000.\n",
      "HTTP request sent, awaiting response... 200 OK\n",
      "Length: 4681 (4.6K) [text/html]\n",
      "Saving to: ‘archive.zip.1’\n",
      "\n",
      "archive.zip.1       100%[===================>]   4.57K  --.-KB/s    in 0s      \n",
      "\n",
      "2021-08-20 08:56:55 (131 MB/s) - ‘archive.zip.1’ saved [4681/4681]\n",
      "\n"
     ]
    }
   ],
   "source": [
    "!wget 'https://cainvas.ai-tech.systems:9000/user/kkharbanda90/lab//home/jupyter-kkharbanda90/archive.zip'\n",
    "\n",
    "!unzip -qo archive.zip \n",
    "!rm archive.zip"
   ]
  },
  {
   "cell_type": "code",
   "execution_count": 3,
   "metadata": {
    "execution": {
     "iopub.execute_input": "2021-08-20T08:57:13.719017Z",
     "iopub.status.busy": "2021-08-20T08:57:13.718776Z",
     "iopub.status.idle": "2021-08-20T08:57:13.722824Z",
     "shell.execute_reply": "2021-08-20T08:57:13.722204Z",
     "shell.execute_reply.started": "2021-08-20T08:57:13.718995Z"
    }
   },
   "outputs": [
    {
     "data": {
      "text/plain": [
       "'/home/jupyter-kkharbanda90'"
      ]
     },
     "execution_count": 3,
     "metadata": {},
     "output_type": "execute_result"
    }
   ],
   "source": [
    "os.getcwd()"
   ]
  },
  {
   "cell_type": "code",
   "execution_count": 6,
   "metadata": {
    "execution": {
     "iopub.execute_input": "2021-08-19T17:08:29.963702Z",
     "iopub.status.busy": "2021-08-19T17:08:29.963539Z",
     "iopub.status.idle": "2021-08-19T17:08:29.965980Z",
     "shell.execute_reply": "2021-08-19T17:08:29.965512Z",
     "shell.execute_reply.started": "2021-08-19T17:08:29.963684Z"
    }
   },
   "outputs": [],
   "source": [
    "#https://cainvas.ai-tech.systems:9000/user/kkharbanda90/lab//home/jupyter-kkharbanda90/archize.zip"
   ]
  },
  {
   "cell_type": "code",
   "execution_count": 4,
   "metadata": {
    "execution": {
     "iopub.execute_input": "2021-08-20T08:57:16.727391Z",
     "iopub.status.busy": "2021-08-20T08:57:16.727229Z",
     "iopub.status.idle": "2021-08-20T08:57:16.730494Z",
     "shell.execute_reply": "2021-08-20T08:57:16.729884Z",
     "shell.execute_reply.started": "2021-08-20T08:57:16.727373Z"
    }
   },
   "outputs": [
    {
     "name": "stdout",
     "output_type": "stream",
     "text": [
      "True\n"
     ]
    }
   ],
   "source": [
    "data_path = os.path.join( os.getcwd(), \"Breast Cancer Patients MRI's\")\n",
    "if data_path:\n",
    "    print(True)"
   ]
  },
  {
   "cell_type": "code",
   "execution_count": 5,
   "metadata": {
    "execution": {
     "iopub.execute_input": "2021-08-20T08:57:54.682398Z",
     "iopub.status.busy": "2021-08-20T08:57:54.682181Z",
     "iopub.status.idle": "2021-08-20T08:57:54.685229Z",
     "shell.execute_reply": "2021-08-20T08:57:54.684655Z",
     "shell.execute_reply.started": "2021-08-20T08:57:54.682377Z"
    }
   },
   "outputs": [],
   "source": [
    "train_path = os.path.join(data_path, 'train')\n",
    "validation_path = os.path.join(data_path, 'validation')"
   ]
  },
  {
   "cell_type": "code",
   "execution_count": 6,
   "metadata": {
    "execution": {
     "iopub.execute_input": "2021-08-20T08:57:57.225103Z",
     "iopub.status.busy": "2021-08-20T08:57:57.224938Z",
     "iopub.status.idle": "2021-08-20T08:57:57.228404Z",
     "shell.execute_reply": "2021-08-20T08:57:57.227937Z",
     "shell.execute_reply.started": "2021-08-20T08:57:57.225086Z"
    }
   },
   "outputs": [],
   "source": [
    "train_image_generator = ImageDataGenerator(\n",
    "    rescale = 1.0/255.0,\n",
    "    rotation_range = 40,\n",
    "    width_shift_range = 0.2,\n",
    "    height_shift_range = 0.2, \n",
    "    shear_range = 0.2,\n",
    "    zoom_range = 0.2,\n",
    "    horizontal_flip = True\n",
    ")\n",
    "\n",
    "valid_image_genrator = ImageDataGenerator(rescale = 1.0/255.0)"
   ]
  },
  {
   "cell_type": "code",
   "execution_count": 26,
   "metadata": {
    "execution": {
     "iopub.execute_input": "2021-08-20T09:24:13.396309Z",
     "iopub.status.busy": "2021-08-20T09:24:13.396092Z",
     "iopub.status.idle": "2021-08-20T09:24:13.502901Z",
     "shell.execute_reply": "2021-08-20T09:24:13.502333Z",
     "shell.execute_reply.started": "2021-08-20T09:24:13.396286Z"
    }
   },
   "outputs": [
    {
     "name": "stdout",
     "output_type": "stream",
     "text": [
      "Found 1400 images belonging to 2 classes.\n"
     ]
    }
   ],
   "source": [
    "training_images = train_image_generator.flow_from_directory(train_path, \n",
    "                                                            target_size = (256,256),\n",
    "                                                            class_mode = 'categorical', \n",
    "                                                            batch_size = 20,\n",
    "                                                            #color_mode=\"grayscale\"\n",
    "                                                           )"
   ]
  },
  {
   "cell_type": "code",
   "execution_count": 27,
   "metadata": {
    "execution": {
     "iopub.execute_input": "2021-08-20T09:24:13.739405Z",
     "iopub.status.busy": "2021-08-20T09:24:13.739253Z",
     "iopub.status.idle": "2021-08-20T09:24:13.843860Z",
     "shell.execute_reply": "2021-08-20T09:24:13.843396Z",
     "shell.execute_reply.started": "2021-08-20T09:24:13.739388Z"
    }
   },
   "outputs": [
    {
     "name": "stdout",
     "output_type": "stream",
     "text": [
      "Found 80 images belonging to 2 classes.\n"
     ]
    }
   ],
   "source": [
    "validation_images = valid_image_genrator.flow_from_directory(validation_path, \n",
    "                                                             target_size = (256,256), \n",
    "                                                             class_mode = 'categorical', \n",
    "                                                             batch_size = 20,\n",
    "                                                            #color_mode=\"grayscale\"\n",
    "                                                            )"
   ]
  },
  {
   "cell_type": "code",
   "execution_count": 8,
   "metadata": {
    "execution": {
     "iopub.execute_input": "2021-08-18T20:12:32.579157Z",
     "iopub.status.busy": "2021-08-18T20:12:32.579006Z",
     "iopub.status.idle": "2021-08-18T20:12:32.582129Z",
     "shell.execute_reply": "2021-08-18T20:12:32.581680Z",
     "shell.execute_reply.started": "2021-08-18T20:12:32.579141Z"
    }
   },
   "outputs": [],
   "source": [
    "class myCallback(tf.keras.callbacks.Callback):\n",
    "  def on_epoch_end(self, epoch, logs = {}):\n",
    "    if logs.get('val_accuracy') > 0.95:\n",
    "      print(\"\\nReached 95% training accuracy so cancelling training!\")\n",
    "      self.model.stop_training = True\n",
    "\n",
    "callbacks = myCallback()"
   ]
  },
  {
   "cell_type": "code",
   "execution_count": 28,
   "metadata": {
    "execution": {
     "iopub.execute_input": "2021-08-20T09:25:31.716841Z",
     "iopub.status.busy": "2021-08-20T09:25:31.716618Z",
     "iopub.status.idle": "2021-08-20T09:25:31.720669Z",
     "shell.execute_reply": "2021-08-20T09:25:31.720180Z",
     "shell.execute_reply.started": "2021-08-20T09:25:31.716819Z"
    }
   },
   "outputs": [],
   "source": []
  },
  {
   "cell_type": "code",
   "execution_count": 30,
   "metadata": {
    "execution": {
     "iopub.execute_input": "2021-08-20T09:25:38.217092Z",
     "iopub.status.busy": "2021-08-20T09:25:38.216937Z",
     "iopub.status.idle": "2021-08-20T09:25:38.219167Z",
     "shell.execute_reply": "2021-08-20T09:25:38.218714Z",
     "shell.execute_reply.started": "2021-08-20T09:25:38.217075Z"
    }
   },
   "outputs": [],
   "source": [
    "#model.summary()"
   ]
  },
  {
   "cell_type": "code",
   "execution_count": 30,
   "metadata": {
    "execution": {
     "iopub.execute_input": "2021-08-19T17:45:24.974077Z",
     "iopub.status.busy": "2021-08-19T17:45:24.973925Z",
     "iopub.status.idle": "2021-08-19T17:45:24.983064Z",
     "shell.execute_reply": "2021-08-19T17:45:24.982525Z",
     "shell.execute_reply.started": "2021-08-19T17:45:24.974061Z"
    }
   },
   "outputs": [],
   "source": [
    "# model.compile(loss=\"categorical_crossentropy\",\n",
    "#               optimizer=Adam(lr = 10 ** -4),\n",
    "#               metrics=['accuracy'])"
   ]
  },
  {
   "cell_type": "code",
   "execution_count": 31,
   "metadata": {
    "execution": {
     "iopub.execute_input": "2021-08-20T09:25:41.383368Z",
     "iopub.status.busy": "2021-08-20T09:25:41.383188Z",
     "iopub.status.idle": "2021-08-20T09:25:41.385442Z",
     "shell.execute_reply": "2021-08-20T09:25:41.384986Z",
     "shell.execute_reply.started": "2021-08-20T09:25:41.383349Z"
    }
   },
   "outputs": [],
   "source": [
    "# history = model.fit_generator(training_images, steps_per_epoch = 15, \n",
    "#                                           epochs = 50, validation_data= validation_images\n",
    "#                                           )"
   ]
  },
  {
   "cell_type": "code",
   "execution_count": 20,
   "metadata": {
    "execution": {
     "iopub.execute_input": "2021-08-19T07:39:24.432125Z",
     "iopub.status.busy": "2021-08-19T07:39:24.431970Z",
     "iopub.status.idle": "2021-08-19T07:39:24.435933Z",
     "shell.execute_reply": "2021-08-19T07:39:24.435478Z",
     "shell.execute_reply.started": "2021-08-19T07:39:24.432107Z"
    }
   },
   "outputs": [],
   "source": [
    "# def plot_metrics(model_name, metric = 'accuracy'):\n",
    "#     if metric == 'loss':\n",
    "#         plt.title(\"Loss Values\")\n",
    "#         plt.plot(model_name.history['loss'], label = 'train')\n",
    "#         plt.plot(model_name.history['val_loss'], label = 'test')\n",
    "#         plt.legend()\n",
    "#         plt.show()\n",
    "#     else:\n",
    "#         plt.title(\"Accuracy Values\")\n",
    "#         plt.plot(model_name.history['accuracy'], label='train') \n",
    "#         plt.plot(model_name.history['val_accuracy'], label='test') \n",
    "#         plt.legend()\n",
    "#         plt.show()"
   ]
  },
  {
   "cell_type": "code",
   "execution_count": 32,
   "metadata": {
    "execution": {
     "iopub.execute_input": "2021-08-20T09:25:58.372836Z",
     "iopub.status.busy": "2021-08-20T09:25:58.372668Z",
     "iopub.status.idle": "2021-08-20T09:25:58.375090Z",
     "shell.execute_reply": "2021-08-20T09:25:58.374486Z",
     "shell.execute_reply.started": "2021-08-20T09:25:58.372818Z"
    }
   },
   "outputs": [],
   "source": [
    "# plot_metrics(history, 'accuracy')\n",
    "# plot_metrics(history, 'loss')"
   ]
  },
  {
   "cell_type": "code",
   "execution_count": 33,
   "metadata": {
    "execution": {
     "iopub.execute_input": "2021-08-20T09:26:01.592129Z",
     "iopub.status.busy": "2021-08-20T09:26:01.591971Z",
     "iopub.status.idle": "2021-08-20T09:26:01.594645Z",
     "shell.execute_reply": "2021-08-20T09:26:01.594003Z",
     "shell.execute_reply.started": "2021-08-20T09:26:01.592111Z"
    }
   },
   "outputs": [],
   "source": [
    "# #CNN Layer\n",
    "# model=Sequential()\n",
    "\n",
    "\n",
    "\n",
    "# model.add(Conv2D(128,(3,3), activation='relu', input_shape=(224,224,3)))\n",
    "# model.add(MaxPooling2D(pool_size=(2, 2)))\n",
    "# model.add(BatchNormalization())\n",
    "# model.add(Dropout(0.2))\n",
    "\n",
    "\n",
    "# model.add(Conv2D(64,(3,3), activation='relu'))\n",
    "# model.add(MaxPooling2D(pool_size=(2, 2)))\n",
    "\n",
    "# model.add(Conv2D(64,(3,3), activation='relu'))\n",
    "# model.add(MaxPooling2D(pool_size=(2, 2)))\n",
    "# model.add(Dropout(0.2))\n",
    "\n",
    "# model.add(Conv2D(32,(3,3), activation='relu'))\n",
    "# model.add(MaxPooling2D(pool_size=(2, 2)))\n",
    "\n",
    "\n",
    "\n",
    "# model.add(Conv2D(32,(3,3), activation='relu'))\n",
    "# model.add(MaxPooling2D(pool_size=(2, 2)))\n",
    "\n",
    "# model.add(Conv2D(16,(3,3), activation='relu'))\n",
    "# model.add(MaxPooling2D(pool_size=(2, 2)))\n",
    "\n",
    "# model.add(Flatten())\n",
    "\n",
    "# model.add(Dense(200,activation='relu'))\n",
    "# model.add(Dense(200,activation='relu'))\n",
    "# model.add(Dense(200,activation='relu'))\n",
    "# model.add(Dense(200,activation='relu'))\n",
    "# model.add(Dense(200,activation='relu'))\n",
    "# model.add(Dense(2, activation='softmax'))\n",
    "# model.summary()"
   ]
  },
  {
   "cell_type": "code",
   "execution_count": 23,
   "metadata": {
    "execution": {
     "iopub.execute_input": "2021-08-20T09:18:45.645527Z",
     "iopub.status.busy": "2021-08-20T09:18:45.645303Z",
     "iopub.status.idle": "2021-08-20T09:18:45.654949Z",
     "shell.execute_reply": "2021-08-20T09:18:45.654438Z",
     "shell.execute_reply.started": "2021-08-20T09:18:45.645504Z"
    }
   },
   "outputs": [],
   "source": [
    "# model.compile(loss=\"categorical_crossentropy\",\n",
    "#               optimizer=Adam(lr = 10 ** -4),\n",
    "#               metrics=['accuracy'])"
   ]
  },
  {
   "cell_type": "code",
   "execution_count": 34,
   "metadata": {
    "execution": {
     "iopub.execute_input": "2021-08-20T09:26:04.196986Z",
     "iopub.status.busy": "2021-08-20T09:26:04.196818Z",
     "iopub.status.idle": "2021-08-20T09:26:04.199180Z",
     "shell.execute_reply": "2021-08-20T09:26:04.198576Z",
     "shell.execute_reply.started": "2021-08-20T09:26:04.196968Z"
    }
   },
   "outputs": [],
   "source": [
    "# history = model.fit_generator(training_images, steps_per_epoch = 30, \n",
    "#                                           epochs = 50, validation_data= validation_images\n",
    "#                                           )"
   ]
  },
  {
   "cell_type": "code",
   "execution_count": 13,
   "metadata": {
    "execution": {
     "iopub.execute_input": "2021-08-20T09:06:29.852164Z",
     "iopub.status.busy": "2021-08-20T09:06:29.851952Z",
     "iopub.status.idle": "2021-08-20T09:06:29.856428Z",
     "shell.execute_reply": "2021-08-20T09:06:29.855743Z",
     "shell.execute_reply.started": "2021-08-20T09:06:29.852142Z"
    }
   },
   "outputs": [],
   "source": [
    "def plot_metrics(model_name, metric = 'accuracy'):\n",
    "    if metric == 'loss':\n",
    "        plt.title(\"Loss Values\")\n",
    "        plt.plot(model_name.history['loss'], label = 'train')\n",
    "        plt.plot(model_name.history['val_loss'], label = 'test')\n",
    "        plt.legend()\n",
    "        plt.show()\n",
    "    else:\n",
    "        plt.title(\"Accuracy Values\")\n",
    "        plt.plot(model_name.history['accuracy'], label='train') \n",
    "        plt.plot(model_name.history['val_accuracy'], label='test') \n",
    "        plt.legend()\n",
    "        plt.show()"
   ]
  },
  {
   "cell_type": "code",
   "execution_count": 38,
   "metadata": {
    "execution": {
     "iopub.execute_input": "2021-08-20T09:26:54.233849Z",
     "iopub.status.busy": "2021-08-20T09:26:54.233690Z",
     "iopub.status.idle": "2021-08-20T09:26:54.235924Z",
     "shell.execute_reply": "2021-08-20T09:26:54.235423Z",
     "shell.execute_reply.started": "2021-08-20T09:26:54.233831Z"
    }
   },
   "outputs": [],
   "source": [
    "# plot_metrics(history, 'accuracy')\n",
    "# plot_metrics(history, 'loss')"
   ]
  },
  {
   "cell_type": "code",
   "execution_count": 57,
   "metadata": {
    "execution": {
     "iopub.execute_input": "2021-08-18T21:44:04.416777Z",
     "iopub.status.busy": "2021-08-18T21:44:04.416626Z",
     "iopub.status.idle": "2021-08-18T21:44:04.460642Z",
     "shell.execute_reply": "2021-08-18T21:44:04.460177Z",
     "shell.execute_reply.started": "2021-08-18T21:44:04.416761Z"
    }
   },
   "outputs": [],
   "source": [
    "# from tensorflow.keras.models import save_model\n",
    "# if os.path.isfile('best_model.h5') is False:\n",
    "#                   model.save('best_model.h5')"
   ]
  },
  {
   "cell_type": "code",
   "execution_count": 37,
   "metadata": {
    "execution": {
     "iopub.execute_input": "2021-08-20T09:26:43.851991Z",
     "iopub.status.busy": "2021-08-20T09:26:43.851835Z",
     "iopub.status.idle": "2021-08-20T09:26:43.854528Z",
     "shell.execute_reply": "2021-08-20T09:26:43.853939Z",
     "shell.execute_reply.started": "2021-08-20T09:26:43.851973Z"
    }
   },
   "outputs": [],
   "source": [
    "# #CNN Layer\n",
    "# model=Sequential()\n",
    "\n",
    "\n",
    "\n",
    "# model.add(Conv2D(128,(3,3), activation='relu', input_shape=(256,256,3)))\n",
    "# model.add(MaxPooling2D(pool_size=(2, 2)))\n",
    "# model.add(BatchNormalization())\n",
    "\n",
    "\n",
    "\n",
    "# model.add(Conv2D(128,(3,3), activation='relu'))\n",
    "# model.add(MaxPooling2D(pool_size=(2, 2)))\n",
    "\n",
    "# model.add(Dropout(0.15))\n",
    "\n",
    "# model.add(Conv2D(64,(3,3), activation='relu'))\n",
    "# model.add(MaxPooling2D(pool_size=(2, 2)))\n",
    "\n",
    "# model.add(Conv2D(32,(3,3), activation='relu'))\n",
    "# model.add(MaxPooling2D(pool_size=(2, 2)))\n",
    "\n",
    "# model.add(Dropout(0.15))\n",
    "\n",
    "\n",
    "\n",
    "# model.add(Conv2D(32,(3,3), activation='relu'))\n",
    "# model.add(MaxPooling2D(pool_size=(2, 2)))\n",
    "\n",
    "# model.add(Conv2D(16,(3,3), activation='relu'))\n",
    "# model.add(MaxPooling2D(pool_size=(2, 2)))\n",
    "\n",
    "# model.add(Flatten())\n",
    "\n",
    "# model.add(Dense(100,activation='relu'))\n",
    "# model.add(Dense(100,activation='relu'))\n",
    "# model.add(Dense(100,activation='relu'))\n",
    "# model.add(Dense(200,activation='relu'))\n",
    "# model.add(Dense(2, activation='softmax'))\n",
    "# model.summary()"
   ]
  },
  {
   "cell_type": "code",
   "execution_count": 17,
   "metadata": {
    "execution": {
     "iopub.execute_input": "2021-08-20T09:07:24.261860Z",
     "iopub.status.busy": "2021-08-20T09:07:24.261700Z",
     "iopub.status.idle": "2021-08-20T09:07:24.271366Z",
     "shell.execute_reply": "2021-08-20T09:07:24.270738Z",
     "shell.execute_reply.started": "2021-08-20T09:07:24.261842Z"
    }
   },
   "outputs": [],
   "source": [
    "# model.compile(loss=\"categorical_crossentropy\",\n",
    "#               optimizer=Adam(lr = 10 ** -5),\n",
    "#               metrics=['accuracy'])"
   ]
  },
  {
   "cell_type": "code",
   "execution_count": 36,
   "metadata": {
    "execution": {
     "iopub.execute_input": "2021-08-20T09:26:41.350665Z",
     "iopub.status.busy": "2021-08-20T09:26:41.350451Z",
     "iopub.status.idle": "2021-08-20T09:26:41.353053Z",
     "shell.execute_reply": "2021-08-20T09:26:41.352520Z",
     "shell.execute_reply.started": "2021-08-20T09:26:41.350644Z"
    }
   },
   "outputs": [],
   "source": [
    "# history = model.fit_generator(training_images, steps_per_epoch = 30, \n",
    "#                                           epochs = 50, validation_data= validation_images, validation_steps = 1\n",
    "#                                           )"
   ]
  },
  {
   "cell_type": "code",
   "execution_count": 35,
   "metadata": {
    "execution": {
     "iopub.execute_input": "2021-08-20T09:26:37.284387Z",
     "iopub.status.busy": "2021-08-20T09:26:37.284206Z",
     "iopub.status.idle": "2021-08-20T09:26:37.286715Z",
     "shell.execute_reply": "2021-08-20T09:26:37.286070Z",
     "shell.execute_reply.started": "2021-08-20T09:26:37.284367Z"
    }
   },
   "outputs": [],
   "source": [
    "# plot_metrics(history, 'accuracy')\n",
    "# plot_metrics(history, 'loss')"
   ]
  },
  {
   "cell_type": "code",
   "execution_count": 21,
   "metadata": {
    "execution": {
     "iopub.execute_input": "2021-08-19T19:50:39.670524Z",
     "iopub.status.busy": "2021-08-19T19:50:39.670347Z",
     "iopub.status.idle": "2021-08-19T19:50:39.718778Z",
     "shell.execute_reply": "2021-08-19T19:50:39.718255Z",
     "shell.execute_reply.started": "2021-08-19T19:50:39.670504Z"
    }
   },
   "outputs": [],
   "source": [
    "# from tensorflow.keras.models import save_model\n",
    "# if os.path.isfile('best_model.h5') is False:\n",
    "#                   model.save('best_model.h5')"
   ]
  },
  {
   "cell_type": "code",
   "execution_count": 9,
   "metadata": {
    "execution": {
     "iopub.execute_input": "2021-08-20T08:58:57.735551Z",
     "iopub.status.busy": "2021-08-20T08:58:57.735299Z",
     "iopub.status.idle": "2021-08-20T08:58:58.484428Z",
     "shell.execute_reply": "2021-08-20T08:58:58.483796Z",
     "shell.execute_reply.started": "2021-08-20T08:58:57.735529Z"
    }
   },
   "outputs": [
    {
     "name": "stdout",
     "output_type": "stream",
     "text": [
      "Model: \"sequential\"\n",
      "_________________________________________________________________\n",
      "Layer (type)                 Output Shape              Param #   \n",
      "=================================================================\n",
      "conv2d (Conv2D)              (None, 254, 254, 128)     3584      \n",
      "_________________________________________________________________\n",
      "max_pooling2d (MaxPooling2D) (None, 127, 127, 128)     0         \n",
      "_________________________________________________________________\n",
      "batch_normalization (BatchNo (None, 127, 127, 128)     512       \n",
      "_________________________________________________________________\n",
      "conv2d_1 (Conv2D)            (None, 125, 125, 128)     147584    \n",
      "_________________________________________________________________\n",
      "max_pooling2d_1 (MaxPooling2 (None, 62, 62, 128)       0         \n",
      "_________________________________________________________________\n",
      "conv2d_2 (Conv2D)            (None, 60, 60, 64)        73792     \n",
      "_________________________________________________________________\n",
      "max_pooling2d_2 (MaxPooling2 (None, 30, 30, 64)        0         \n",
      "_________________________________________________________________\n",
      "conv2d_3 (Conv2D)            (None, 28, 28, 32)        18464     \n",
      "_________________________________________________________________\n",
      "max_pooling2d_3 (MaxPooling2 (None, 14, 14, 32)        0         \n",
      "_________________________________________________________________\n",
      "conv2d_4 (Conv2D)            (None, 12, 12, 32)        9248      \n",
      "_________________________________________________________________\n",
      "max_pooling2d_4 (MaxPooling2 (None, 6, 6, 32)          0         \n",
      "_________________________________________________________________\n",
      "conv2d_5 (Conv2D)            (None, 4, 4, 16)          4624      \n",
      "_________________________________________________________________\n",
      "max_pooling2d_5 (MaxPooling2 (None, 2, 2, 16)          0         \n",
      "_________________________________________________________________\n",
      "flatten (Flatten)            (None, 64)                0         \n",
      "_________________________________________________________________\n",
      "dense (Dense)                (None, 100)               6500      \n",
      "_________________________________________________________________\n",
      "dense_1 (Dense)              (None, 100)               10100     \n",
      "_________________________________________________________________\n",
      "dense_2 (Dense)              (None, 100)               10100     \n",
      "_________________________________________________________________\n",
      "dense_3 (Dense)              (None, 200)               20200     \n",
      "_________________________________________________________________\n",
      "dense_4 (Dense)              (None, 2)                 402       \n",
      "=================================================================\n",
      "Total params: 305,110\n",
      "Trainable params: 304,854\n",
      "Non-trainable params: 256\n",
      "_________________________________________________________________\n"
     ]
    }
   ],
   "source": [
    "#CNN Layer\n",
    "model=Sequential()\n",
    "\n",
    "\n",
    "\n",
    "model.add(Conv2D(128,(3,3), activation='relu', input_shape=(256,256,3)))\n",
    "model.add(MaxPooling2D(pool_size=(2, 2)))\n",
    "model.add(BatchNormalization())\n",
    "\n",
    "\n",
    "\n",
    "model.add(Conv2D(128,(3,3), activation='relu'))\n",
    "model.add(MaxPooling2D(pool_size=(2, 2)))\n",
    "\n",
    "\n",
    "\n",
    "model.add(Conv2D(64,(3,3), activation='relu'))\n",
    "model.add(MaxPooling2D(pool_size=(2, 2)))\n",
    "\n",
    "model.add(Conv2D(32,(3,3), activation='relu'))\n",
    "model.add(MaxPooling2D(pool_size=(2, 2)))\n",
    "\n",
    "\n",
    "\n",
    "\n",
    "\n",
    "model.add(Conv2D(32,(3,3), activation='relu'))\n",
    "model.add(MaxPooling2D(pool_size=(2, 2)))\n",
    "\n",
    "model.add(Conv2D(16,(3,3), activation='relu'))\n",
    "model.add(MaxPooling2D(pool_size=(2, 2)))\n",
    "\n",
    "model.add(Flatten())\n",
    "\n",
    "model.add(Dense(100,activation='relu'))\n",
    "model.add(Dense(100,activation='relu'))\n",
    "model.add(Dense(100,activation='relu'))\n",
    "model.add(Dense(200,activation='relu'))\n",
    "model.add(Dense(2, activation='softmax'))\n",
    "model.summary()"
   ]
  },
  {
   "cell_type": "code",
   "execution_count": 10,
   "metadata": {
    "execution": {
     "iopub.execute_input": "2021-08-20T08:59:01.600326Z",
     "iopub.status.busy": "2021-08-20T08:59:01.600104Z",
     "iopub.status.idle": "2021-08-20T08:59:01.611807Z",
     "shell.execute_reply": "2021-08-20T08:59:01.611043Z",
     "shell.execute_reply.started": "2021-08-20T08:59:01.600304Z"
    }
   },
   "outputs": [],
   "source": [
    "model.compile(loss=\"categorical_crossentropy\",\n",
    "              optimizer=Adam(lr = 10 ** -5),\n",
    "              metrics=['accuracy'])"
   ]
  },
  {
   "cell_type": "code",
   "execution_count": 11,
   "metadata": {
    "execution": {
     "iopub.execute_input": "2021-08-20T08:59:08.883181Z",
     "iopub.status.busy": "2021-08-20T08:59:08.882961Z",
     "iopub.status.idle": "2021-08-20T09:05:07.652055Z",
     "shell.execute_reply": "2021-08-20T09:05:07.651471Z",
     "shell.execute_reply.started": "2021-08-20T08:59:08.883161Z"
    }
   },
   "outputs": [
    {
     "name": "stdout",
     "output_type": "stream",
     "text": [
      "WARNING:tensorflow:From <ipython-input-11-df88d8ba17d1>:2: Model.fit_generator (from tensorflow.python.keras.engine.training) is deprecated and will be removed in a future version.\n",
      "Instructions for updating:\n",
      "Please use Model.fit, which supports generators.\n",
      "Epoch 1/50\n",
      " 2/30 [=>............................] - ETA: 1s - loss: 0.6973 - accuracy: 0.5250WARNING:tensorflow:Callbacks method `on_train_batch_end` is slow compared to the batch time (batch time: 0.0296s vs `on_train_batch_end` time: 0.0644s). Check your callbacks.\n",
      "30/30 [==============================] - 7s 228ms/step - loss: 0.6939 - accuracy: 0.5017 - val_loss: 0.6936 - val_accuracy: 0.4000\n",
      "Epoch 2/50\n",
      "30/30 [==============================] - 7s 225ms/step - loss: 0.6888 - accuracy: 0.5367 - val_loss: 0.6915 - val_accuracy: 0.6000\n",
      "Epoch 3/50\n",
      "30/30 [==============================] - 7s 225ms/step - loss: 0.6869 - accuracy: 0.5400 - val_loss: 0.6955 - val_accuracy: 0.4000\n",
      "Epoch 4/50\n",
      "30/30 [==============================] - 7s 224ms/step - loss: 0.6837 - accuracy: 0.5167 - val_loss: 0.6927 - val_accuracy: 0.5000\n",
      "Epoch 5/50\n",
      "30/30 [==============================] - 7s 224ms/step - loss: 0.6869 - accuracy: 0.5033 - val_loss: 0.6921 - val_accuracy: 0.4500\n",
      "Epoch 6/50\n",
      "30/30 [==============================] - 7s 224ms/step - loss: 0.6876 - accuracy: 0.5283 - val_loss: 0.6880 - val_accuracy: 0.6500\n",
      "Epoch 7/50\n",
      "30/30 [==============================] - 7s 223ms/step - loss: 0.6838 - accuracy: 0.5533 - val_loss: 0.6845 - val_accuracy: 0.6000\n",
      "Epoch 8/50\n",
      "30/30 [==============================] - 7s 231ms/step - loss: 0.6845 - accuracy: 0.5350 - val_loss: 0.6775 - val_accuracy: 0.8500\n",
      "Epoch 9/50\n",
      "30/30 [==============================] - 7s 223ms/step - loss: 0.6884 - accuracy: 0.5350 - val_loss: 0.6828 - val_accuracy: 0.6000\n",
      "Epoch 10/50\n",
      "30/30 [==============================] - 7s 224ms/step - loss: 0.6801 - accuracy: 0.5583 - val_loss: 0.6724 - val_accuracy: 0.6000\n",
      "Epoch 11/50\n",
      "30/30 [==============================] - 7s 224ms/step - loss: 0.6815 - accuracy: 0.5750 - val_loss: 0.6719 - val_accuracy: 0.8500\n",
      "Epoch 12/50\n",
      "30/30 [==============================] - 7s 226ms/step - loss: 0.6792 - accuracy: 0.5633 - val_loss: 0.6786 - val_accuracy: 0.6500\n",
      "Epoch 13/50\n",
      "30/30 [==============================] - 7s 228ms/step - loss: 0.6738 - accuracy: 0.6017 - val_loss: 0.6668 - val_accuracy: 0.6000\n",
      "Epoch 14/50\n",
      "30/30 [==============================] - 7s 224ms/step - loss: 0.6798 - accuracy: 0.5783 - val_loss: 0.6487 - val_accuracy: 0.7000\n",
      "Epoch 15/50\n",
      "30/30 [==============================] - 7s 233ms/step - loss: 0.6753 - accuracy: 0.5917 - val_loss: 0.6277 - val_accuracy: 0.7000\n",
      "Epoch 16/50\n",
      "30/30 [==============================] - 7s 225ms/step - loss: 0.6723 - accuracy: 0.5767 - val_loss: 0.6459 - val_accuracy: 0.6500\n",
      "Epoch 17/50\n",
      "30/30 [==============================] - 7s 227ms/step - loss: 0.6701 - accuracy: 0.6000 - val_loss: 0.6224 - val_accuracy: 0.6500\n",
      "Epoch 18/50\n",
      "30/30 [==============================] - 7s 226ms/step - loss: 0.6787 - accuracy: 0.5667 - val_loss: 0.6086 - val_accuracy: 0.6500\n",
      "Epoch 19/50\n",
      "30/30 [==============================] - 7s 227ms/step - loss: 0.6702 - accuracy: 0.5867 - val_loss: 0.5865 - val_accuracy: 0.8000\n",
      "Epoch 20/50\n",
      "30/30 [==============================] - 7s 226ms/step - loss: 0.6710 - accuracy: 0.5883 - val_loss: 0.6283 - val_accuracy: 0.6000\n",
      "Epoch 21/50\n",
      "30/30 [==============================] - 7s 224ms/step - loss: 0.6649 - accuracy: 0.5767 - val_loss: 0.6377 - val_accuracy: 0.6000\n",
      "Epoch 22/50\n",
      "30/30 [==============================] - 7s 226ms/step - loss: 0.6728 - accuracy: 0.5850 - val_loss: 0.5995 - val_accuracy: 0.7000\n",
      "Epoch 23/50\n",
      "30/30 [==============================] - 7s 228ms/step - loss: 0.6619 - accuracy: 0.6017 - val_loss: 0.5966 - val_accuracy: 0.7000\n",
      "Epoch 24/50\n",
      "30/30 [==============================] - 7s 226ms/step - loss: 0.6674 - accuracy: 0.5933 - val_loss: 0.5375 - val_accuracy: 0.8500\n",
      "Epoch 25/50\n",
      "30/30 [==============================] - 7s 228ms/step - loss: 0.6607 - accuracy: 0.6133 - val_loss: 0.6338 - val_accuracy: 0.6000\n",
      "Epoch 26/50\n",
      "30/30 [==============================] - 7s 225ms/step - loss: 0.6701 - accuracy: 0.5833 - val_loss: 0.5426 - val_accuracy: 0.8000\n",
      "Epoch 27/50\n",
      "30/30 [==============================] - 7s 227ms/step - loss: 0.6744 - accuracy: 0.5817 - val_loss: 0.5951 - val_accuracy: 0.6500\n",
      "Epoch 28/50\n",
      "30/30 [==============================] - 7s 226ms/step - loss: 0.6799 - accuracy: 0.5600 - val_loss: 0.5786 - val_accuracy: 0.8000\n",
      "Epoch 29/50\n",
      "30/30 [==============================] - 7s 227ms/step - loss: 0.6624 - accuracy: 0.6067 - val_loss: 0.6099 - val_accuracy: 0.6000\n",
      "Epoch 30/50\n",
      "30/30 [==============================] - 7s 225ms/step - loss: 0.6741 - accuracy: 0.5700 - val_loss: 0.6210 - val_accuracy: 0.6500\n",
      "Epoch 31/50\n",
      "30/30 [==============================] - 7s 228ms/step - loss: 0.6652 - accuracy: 0.5850 - val_loss: 0.6744 - val_accuracy: 0.6000\n",
      "Epoch 32/50\n",
      "30/30 [==============================] - 7s 226ms/step - loss: 0.6650 - accuracy: 0.5783 - val_loss: 0.5315 - val_accuracy: 0.7500\n",
      "Epoch 33/50\n",
      "30/30 [==============================] - 7s 228ms/step - loss: 0.6720 - accuracy: 0.5800 - val_loss: 0.6467 - val_accuracy: 0.5500\n",
      "Epoch 34/50\n",
      "30/30 [==============================] - 7s 228ms/step - loss: 0.6563 - accuracy: 0.6000 - val_loss: 0.6596 - val_accuracy: 0.5000\n",
      "Epoch 35/50\n",
      "30/30 [==============================] - 7s 225ms/step - loss: 0.6536 - accuracy: 0.6183 - val_loss: 0.6118 - val_accuracy: 0.6500\n",
      "Epoch 36/50\n",
      "30/30 [==============================] - 7s 227ms/step - loss: 0.6662 - accuracy: 0.5817 - val_loss: 0.6526 - val_accuracy: 0.6000\n",
      "Epoch 37/50\n",
      "30/30 [==============================] - 7s 225ms/step - loss: 0.6693 - accuracy: 0.5967 - val_loss: 0.5518 - val_accuracy: 0.8000\n",
      "Epoch 38/50\n",
      "30/30 [==============================] - 7s 229ms/step - loss: 0.6617 - accuracy: 0.6100 - val_loss: 0.5786 - val_accuracy: 0.7000\n",
      "Epoch 39/50\n",
      "30/30 [==============================] - 7s 224ms/step - loss: 0.6784 - accuracy: 0.5650 - val_loss: 0.5463 - val_accuracy: 0.7500\n",
      "Epoch 40/50\n",
      "30/30 [==============================] - 7s 226ms/step - loss: 0.6683 - accuracy: 0.5867 - val_loss: 0.6601 - val_accuracy: 0.6000\n",
      "Epoch 41/50\n",
      "30/30 [==============================] - 7s 227ms/step - loss: 0.6483 - accuracy: 0.6150 - val_loss: 0.6141 - val_accuracy: 0.7500\n",
      "Epoch 42/50\n",
      "30/30 [==============================] - 7s 225ms/step - loss: 0.6611 - accuracy: 0.6233 - val_loss: 0.6339 - val_accuracy: 0.6000\n",
      "Epoch 43/50\n",
      "30/30 [==============================] - 7s 227ms/step - loss: 0.6569 - accuracy: 0.6150 - val_loss: 0.6065 - val_accuracy: 0.6500\n",
      "Epoch 44/50\n",
      "30/30 [==============================] - 7s 225ms/step - loss: 0.6634 - accuracy: 0.6050 - val_loss: 0.6193 - val_accuracy: 0.6500\n",
      "Epoch 45/50\n",
      "30/30 [==============================] - 7s 223ms/step - loss: 0.6598 - accuracy: 0.6067 - val_loss: 0.6725 - val_accuracy: 0.5500\n",
      "Epoch 46/50\n",
      "30/30 [==============================] - 7s 225ms/step - loss: 0.6615 - accuracy: 0.5933 - val_loss: 0.5971 - val_accuracy: 0.7000\n",
      "Epoch 47/50\n",
      "30/30 [==============================] - 7s 233ms/step - loss: 0.6524 - accuracy: 0.6183 - val_loss: 0.6019 - val_accuracy: 0.7000\n",
      "Epoch 48/50\n",
      "30/30 [==============================] - 7s 228ms/step - loss: 0.6564 - accuracy: 0.6183 - val_loss: 0.6498 - val_accuracy: 0.6000\n",
      "Epoch 49/50\n",
      "30/30 [==============================] - 7s 226ms/step - loss: 0.6619 - accuracy: 0.6100 - val_loss: 0.5809 - val_accuracy: 0.7000\n",
      "Epoch 50/50\n",
      "30/30 [==============================] - 7s 226ms/step - loss: 0.6478 - accuracy: 0.6333 - val_loss: 0.5633 - val_accuracy: 0.7500\n"
     ]
    }
   ],
   "source": [
    "history = model.fit_generator(training_images, steps_per_epoch = 30, \n",
    "                                          epochs = 50, validation_data= validation_images, validation_steps = 1\n",
    "                                          )"
   ]
  },
  {
   "cell_type": "code",
   "execution_count": 14,
   "metadata": {
    "execution": {
     "iopub.execute_input": "2021-08-20T09:06:33.463221Z",
     "iopub.status.busy": "2021-08-20T09:06:33.462918Z",
     "iopub.status.idle": "2021-08-20T09:06:33.710711Z",
     "shell.execute_reply": "2021-08-20T09:06:33.710250Z",
     "shell.execute_reply.started": "2021-08-20T09:06:33.463189Z"
    }
   },
   "outputs": [
    {
     "data": {
      "image/png": "[encoded data removed]",
      "text/plain": [
       "<Figure size 432x288 with 1 Axes>"
      ]
     },
     "metadata": {
      "needs_background": "light"
     },
     "output_type": "display_data"
    },
    {
     "data": {
      "image/png": "[encoded data removed]",
      "text/plain": [
       "<Figure size 432x288 with 1 Axes>"
      ]
     },
     "metadata": {
      "needs_background": "light"
     },
     "output_type": "display_data"
    }
   ],
   "source": [
    "plot_metrics(history, 'accuracy')\n",
    "plot_metrics(history, 'loss')"
   ]
  },
  {
   "cell_type": "code",
   "execution_count": 15,
   "metadata": {
    "execution": {
     "iopub.execute_input": "2021-08-20T09:06:42.342308Z",
     "iopub.status.busy": "2021-08-20T09:06:42.342103Z",
     "iopub.status.idle": "2021-08-20T09:06:42.390919Z",
     "shell.execute_reply": "2021-08-20T09:06:42.390329Z",
     "shell.execute_reply.started": "2021-08-20T09:06:42.342287Z"
    }
   },
   "outputs": [],
   "source": [
    "from tensorflow.keras.models import save_model\n",
    "if os.path.isfile('best_model.h5') is False:\n",
    "                  model.save('best_model.h5')"
   ]
  }
 ],
 "metadata": {
  "kernelspec": {
   "display_name": "Python 3",
   "language": "python",
   "name": "python3"
  },
  "language_info": {
   "codemirror_mode": {
    "name": "ipython",
    "version": 3
   },
   "file_extension": ".py",
   "mimetype": "text/x-python",
   "name": "python",
   "nbconvert_exporter": "python",
   "pygments_lexer": "ipython3",
   "version": "3.7.3"
  }
 },
 "nbformat": 4,
 "nbformat_minor": 4
}
